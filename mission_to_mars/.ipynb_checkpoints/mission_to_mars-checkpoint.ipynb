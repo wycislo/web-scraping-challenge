{
 "cells": [
  {
   "cell_type": "markdown",
   "id": "751a7493",
   "metadata": {},
   "source": [
    "mission to mars\n"
   ]
  },
  {
   "cell_type": "code",
   "execution_count": 51,
   "id": "429e0565",
   "metadata": {},
   "outputs": [],
   "source": [
    "from bs4 import BeautifulSoup\n",
    "from splinter import Browser\n",
    "from webdriver_manager.chrome import ChromeDriverManager\n",
    "import pandas as pd\n",
    "import requests"
   ]
  },
  {
   "cell_type": "code",
   "execution_count": 52,
   "id": "851dc3b1",
   "metadata": {},
   "outputs": [],
   "source": [
    "# executable_path = {'executable_path': ChromeDriverManager().install()}\n",
    "# browser = Browser('chrome', **executable_path, headless=False)"
   ]
  },
  {
   "cell_type": "code",
   "execution_count": 53,
   "id": "b2b2b35c",
   "metadata": {},
   "outputs": [
    {
     "data": {
      "text/plain": [
       "<Response [200]>"
      ]
     },
     "execution_count": 53,
     "metadata": {},
     "output_type": "execute_result"
    }
   ],
   "source": [
    "mars_news_site = \"https://mars.nasa.gov/news/\"\n",
    "mars_page = requests.get(mars_news_site)\n",
    "mars_page"
   ]
  },
  {
   "cell_type": "code",
   "execution_count": 58,
   "id": "b1003645",
   "metadata": {},
   "outputs": [],
   "source": [
    "soup = BeautifulSoup(mars_page.content,'html.parser')\n",
    "# print(soup.prettify())"
   ]
  },
  {
   "cell_type": "code",
   "execution_count": 57,
   "id": "00ddb5d8",
   "metadata": {},
   "outputs": [],
   "source": [
    "# read the website with beautifulsoup and put into objects\n",
    "# Doctype contains information about the type of document\n",
    "# NavigableString contains information about the text in the html document\n",
    "# Tag contains information about the various tags in the site\n",
    "# [type(item) for item in list(soup.children)]"
   ]
  },
  {
   "cell_type": "code",
   "execution_count": 56,
   "id": "3c70c01a",
   "metadata": {},
   "outputs": [
    {
     "name": "stdout",
     "output_type": "stream",
     "text": [
      "\n",
      "\n",
      "NASA's Perseverance Sheds More Light on Jezero Crater's Watery Past\n",
      "\n",
      "\n",
      "\n",
      "Pictures from NASA’s latest six-wheeler on the Red Planet suggest the area’s history experienced significant flooding events.\n",
      "\n"
     ]
    }
   ],
   "source": [
    "news_title = soup.find(\"div\",class_='content_title').get_text()\n",
    "news_paragraph = soup.find(\"div\",class_='rollover_description_inner').get_text()\n",
    "print(news_title)\n",
    "print(news_paragraph)"
   ]
  },
  {
   "cell_type": "markdown",
   "id": "9b795512",
   "metadata": {},
   "source": [
    "## Use Splinter to work with JPL website"
   ]
  },
  {
   "cell_type": "code",
   "execution_count": null,
   "id": "956892fb",
   "metadata": {},
   "outputs": [],
   "source": [
    "https://spaceimages-mars.com"
   ]
  }
 ],
 "metadata": {
  "kernelspec": {
   "display_name": "Python [conda env:PythonData] *",
   "language": "python",
   "name": "conda-env-PythonData-py"
  },
  "language_info": {
   "codemirror_mode": {
    "name": "ipython",
    "version": 3
   },
   "file_extension": ".py",
   "mimetype": "text/x-python",
   "name": "python",
   "nbconvert_exporter": "python",
   "pygments_lexer": "ipython3",
   "version": "3.6.13"
  }
 },
 "nbformat": 4,
 "nbformat_minor": 5
}
