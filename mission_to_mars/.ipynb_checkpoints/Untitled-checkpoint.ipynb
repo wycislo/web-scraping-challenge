{
 "cells": [
  {
   "cell_type": "markdown",
   "id": "751a7493",
   "metadata": {},
   "source": [
    "mission to mars\n"
   ]
  },
  {
   "cell_type": "code",
   "execution_count": null,
   "id": "429e0565",
   "metadata": {},
   "outputs": [],
   "source": []
  }
 ],
 "metadata": {
  "kernelspec": {
   "display_name": "Python [conda env:PythonData] *",
   "language": "python",
   "name": "conda-env-PythonData-py"
  },
  "language_info": {
   "codemirror_mode": {
    "name": "ipython",
    "version": 3
   },
   "file_extension": ".py",
   "mimetype": "text/x-python",
   "name": "python",
   "nbconvert_exporter": "python",
   "pygments_lexer": "ipython3",
   "version": "3.6.13"
  }
 },
 "nbformat": 4,
 "nbformat_minor": 5
}
